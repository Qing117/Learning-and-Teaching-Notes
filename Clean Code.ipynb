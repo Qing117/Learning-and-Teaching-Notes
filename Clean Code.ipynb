{
 "cells": [
  {
   "cell_type": "markdown",
   "id": "2365e32c",
   "metadata": {},
   "source": [
    "- Code should be easy to read and understand.\n",
    "- Should be readable and meaningful.\n",
    "- Should reduce cognitive load.\n",
    "- Shoul be concise and \"to the point\"\n",
    "- Should avoid unintuitive names, complex nesting and big code blocks\n",
    "- Should follow common best practices and patterns.\n",
    "- Should be fun to write and to maintian."
   ]
  },
  {
   "cell_type": "code",
   "execution_count": null,
   "id": "a57529c6",
   "metadata": {},
   "outputs": [],
   "source": []
  }
 ],
 "metadata": {
  "kernelspec": {
   "display_name": "Python 3 (ipykernel)",
   "language": "python",
   "name": "python3"
  },
  "language_info": {
   "codemirror_mode": {
    "name": "ipython",
    "version": 3
   },
   "file_extension": ".py",
   "mimetype": "text/x-python",
   "name": "python",
   "nbconvert_exporter": "python",
   "pygments_lexer": "ipython3",
   "version": "3.9.13"
  }
 },
 "nbformat": 4,
 "nbformat_minor": 5
}
